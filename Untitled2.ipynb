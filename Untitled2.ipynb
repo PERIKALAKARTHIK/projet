{
  "nbformat": 4,
  "nbformat_minor": 0,
  "metadata": {
    "colab": {
      "provenance": [],
      "authorship_tag": "ABX9TyPYkAwm/8v1FpOqaHNy4M2Y",
      "include_colab_link": true
    },
    "kernelspec": {
      "name": "python3",
      "display_name": "Python 3"
    },
    "language_info": {
      "name": "python"
    }
  },
  "cells": [
    {
      "cell_type": "markdown",
      "metadata": {
        "id": "view-in-github",
        "colab_type": "text"
      },
      "source": [
        "<a href=\"https://colab.research.google.com/github/PERIKALAKARTHIK/projet/blob/main/Untitled2.ipynb\" target=\"_parent\"><img src=\"https://colab.research.google.com/assets/colab-badge.svg\" alt=\"Open In Colab\"/></a>"
      ]
    },
    {
      "cell_type": "code",
      "execution_count": 6,
      "metadata": {
        "colab": {
          "base_uri": "https://localhost:8080/"
        },
        "id": "pzl5N4lqChp-",
        "outputId": "8e6337f2-fad7-4535-ae15-95eb92524bd3"
      },
      "outputs": [
        {
          "output_type": "stream",
          "name": "stdout",
          "text": [
            "   plate  price\n",
            "0      1    160\n",
            "1      2    320\n",
            "2      3    480\n",
            "3      4    640\n",
            "4      5    800\n",
            "5      6    960\n",
            "6      7   1120\n",
            "7      8   1280\n",
            "8      9   1440\n",
            "9     10   1600\n",
            "1.0\n"
          ]
        }
      ],
      "source": [
        "import pandas as reddy\n",
        "from sklearn import linear_model\n",
        "teja=reddy.read_csv('bilal.csv')\n",
        "print(teja)\n",
        "karti=linear_model.LinearRegression()\n",
        "feature=reddy.read_csv('bilal.csv',usecols=[0])\n",
        "label=reddy.read_csv('bilal.csv',usecols=[1])\n",
        "karti.fit(feature,label)\n",
        "print(karti.score(feature,label))"
      ]
    },
    {
      "cell_type": "code",
      "source": [
        "import pandas as reddy\n",
        "from sklearn import linear_model\n",
        "teja=reddy.read_csv('house.csv')\n",
        "print(teja)\n",
        "karti=linear_model.LinearRegression()\n",
        "feature=reddy.read_csv('house.csv',usecols=[0,1,2])\n",
        "label=reddy.read_csv('house.csv',usecols=[3])\n",
        "karti.fit(feature,label)\n",
        "print(karti.score(feature,label))"
      ],
      "metadata": {
        "colab": {
          "base_uri": "https://localhost:8080/"
        },
        "id": "4HxPsfzvKtJ8",
        "outputId": "dd6d3cb9-0b08-4467-9ce5-c8ebb4b036c1"
      },
      "execution_count": 7,
      "outputs": [
        {
          "output_type": "stream",
          "name": "stdout",
          "text": [
            "   size  bedroom  distance  amount\n",
            "0  2000        3         5  300000\n",
            "1  1500        2        10  250000\n",
            "2  2500        4         8  400000\n",
            "3  1800        3        12  275000\n",
            "4  2200        4         6  350000\n",
            "5  1600        3         9  270000\n",
            "6  3000        5         4  500000\n",
            "7  1700        2         7  240000\n",
            "8  2400        4         3  420000\n",
            "9  2100        3         5  330000\n",
            "0.9657841450747262\n"
          ]
        }
      ]
    }
  ]
}